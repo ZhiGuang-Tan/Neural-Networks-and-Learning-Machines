{
 "cells": [
  {
   "cell_type": "code",
   "execution_count": 1,
   "metadata": {},
   "outputs": [],
   "source": [
    "import sys\n",
    "sys.path.append(\"../util/\")\n",
    "\n",
    "import numpy as np\n",
    "import matplotlib.pyplot as plt\n",
    "\n",
    "from ipynb.fs.full.data_generator_2d import double_moon, gaussian_2d, visualize_data"
   ]
  },
  {
   "cell_type": "code",
   "execution_count": 2,
   "metadata": {},
   "outputs": [],
   "source": [
    "def test(f):\n",
    "    dataset = double_moon(2000)\n",
    "    #dataset = np.array([[0,0,-1],[0,1,-1],[1,0,-1],[1,1,1]])\n",
    "    w, b = f(dataset)\n",
    "    error_rate = np.sum(np.sign(np.dot(dataset[:, :2], w)+b)!=dataset[:, 2]) / dataset.shape[0]\n",
    "    print(w, b, error_rate)\n",
    "    fig = plt.figure()\n",
    "    ax = fig.subplots(1, 1)\n",
    "    visualize_data(dataset, ax)\n",
    "    t = np.linspace(-10, 15, num=2)\n",
    "    if not (w[1] == 0):\n",
    "        ax.plot(t, -(w[0]*t+b)/w[1])\n",
    "    ax.set_aspect('equal')\n",
    "    plt.show()\n",
    "    return"
   ]
  },
  {
   "cell_type": "code",
   "execution_count": 3,
   "metadata": {},
   "outputs": [],
   "source": [
    "def test_net(f):\n",
    "    dataset = double_moon(2000, d=-2)\n",
    "    #dataset = np.array([[0,0,-1],[0,1,-1],[1,0,-1],[1,1,1]])\n",
    "    w, b = f(dataset)\n",
    "    print(w, b)\n",
    "    fig = plt.figure()\n",
    "    ax = fig.subplots(1, 1)\n",
    "    visualize_data(dataset, ax)\n",
    "    t = np.linspace(-10, 15, 50)\n",
    "    for i in t:\n",
    "        for j in t:\n",
    "            v1 = np.dot(w[0].T, np.array([i, j]))+b[0]\n",
    "            y1 = np.tanh(100*v1)\n",
    "            v2 = np.dot(w[1].T, y1)+b[1]\n",
    "            y2 = np.tanh(100*v2)\n",
    "            ax.scatter(i, j, c=plt.cm.RdYlBu(np.sign(y2)), marker=\"+\")\n",
    "    plt.show()\n",
    "    return"
   ]
  }
 ],
 "metadata": {
  "kernelspec": {
   "display_name": "Python 3",
   "language": "python",
   "name": "python3"
  },
  "language_info": {
   "codemirror_mode": {
    "name": "ipython",
    "version": 3
   },
   "file_extension": ".py",
   "mimetype": "text/x-python",
   "name": "python",
   "nbconvert_exporter": "python",
   "pygments_lexer": "ipython3",
   "version": "3.7.3"
  }
 },
 "nbformat": 4,
 "nbformat_minor": 4
}
