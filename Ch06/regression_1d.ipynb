{
 "cells": [
  {
   "cell_type": "code",
   "execution_count": 1,
   "metadata": {},
   "outputs": [],
   "source": [
    "import sys\n",
    "sys.path.append(\"../util/\")\n",
    "\n",
    "import numpy as np\n",
    "import matplotlib.pyplot as plt"
   ]
  },
  {
   "cell_type": "code",
   "execution_count": 2,
   "metadata": {},
   "outputs": [],
   "source": [
    "def support_vector_regression_1d(dataset, C, epsilon=0.1, epochs=100):\n",
    "    bias = 0.0\n",
    "    betas = np.zeros(dataset.shape[0])\n",
    "    count = 0\n",
    "    numChanged = 0\n",
    "    isReadyForNewLoop = True\n",
    "    while ((count<epochs) and (isReadyForNewLoop or (numChanged>0))):\n",
    "        numChanged = 0\n",
    "        for i in range(dataset.shape[0]):\n",
    "            if (isReadyForNewLoop or (np.fabs(betas[i])<C)):\n",
    "                Ei = np.dot(betas, np.matmul(dataset[:, :-1], dataset[i, :-1]))+bias-dataset[i, -1]\n",
    "                if (((np.fabs(Ei+epsilon)>0.001) and (betas[i]>=0) and (betas[i]<C)) or \\\n",
    "                    ((np.fabs(Ei-epsilon)>0.001) and (betas[i]>-C) and (betas[i]<=0))):\n",
    "                    maxDeltaE = 0.0\n",
    "                    j = -1\n",
    "                    for _j in range(dataset.shape[0]):\n",
    "                        if (np.fabs(betas[_j])<0):\n",
    "                            E = np.dot(betas, np.matmul(dataset[:, :-1], dataset[_j, :-1]))+bias-dataset[_j, -1]\n",
    "                            deltaE = np.fabs(Ei-E)\n",
    "                            if (deltaE>maxDeltaE):\n",
    "                                j = _j\n",
    "                                maxDeltaE = deltaE\n",
    "                                Ej = E\n",
    "                    if (j<0):\n",
    "                        j = i\n",
    "                        while (j==i):\n",
    "                            j = np.random.randint(0, dataset.shape[0])\n",
    "                        Ej = np.dot(betas, np.matmul(dataset[:, :-1], dataset[j, :-1]))+bias-dataset[j, -1]\n",
    "                    betaI = betas[i].copy()\n",
    "                    betaJ = betas[j].copy()\n",
    "                    eta = 2.0*np.dot(dataset[i, :-1], dataset[j, :-1]) \\\n",
    "                          -np.dot(dataset[i, :-1], dataset[i, :-1]) \\\n",
    "                          -np.dot(dataset[j, :-1], dataset[j, :-1])\n",
    "                    if (eta>=0):\n",
    "                        print(\"eta>=0\")\n",
    "                        continue\n",
    "                    delta = (Ei-Ej)/eta\n",
    "                    if (np.fabs(delta) < 0.00001):\n",
    "                        print(\"not moving enough\")\n",
    "                        continue\n",
    "                    betas[j] -= delta\n",
    "                    if (betas[j]>C):\n",
    "                        betas[j] = C\n",
    "                    elif (betas[j]<-C):\n",
    "                        betas[j] = -C\n",
    "                    betas[i] += delta\n",
    "                    if (betas[i]>C):\n",
    "                        betas[i] = C\n",
    "                    elif (betas[i]<-C):\n",
    "                        betas[i] = -C\n",
    "                    bias1 = bias-Ei-delta*(np.dot(dataset[i, :-1], dataset[i, :-1])-np.dot(dataset[i, :-1], dataset[j, :-1]))\n",
    "                    bias2 = bias-Ej-delta*(np.dot(dataset[i, :-1], dataset[j, :-1])-np.dot(dataset[j, :-1], dataset[j, :-1]))\n",
    "                    if (0<betas[i]):\n",
    "                        bias = bias1-epsilon\n",
    "                    elif (0>betas[j]):\n",
    "                        bias = bias2+epsilon\n",
    "                    else:\n",
    "                        bias = (bias1 + bias2)/2.0\n",
    "                    numChanged += 1\n",
    "        count += 1\n",
    "        #print(numChanged)\n",
    "        if isReadyForNewLoop:\n",
    "            isReadyForNewLoop = False\n",
    "        elif (numChanged==0):\n",
    "            isReadyForNewLoop = True\n",
    "    return bias, betas"
   ]
  },
  {
   "cell_type": "code",
   "execution_count": 3,
   "metadata": {},
   "outputs": [
    {
     "name": "stdout",
     "output_type": "stream",
     "text": [
      "-19.59137348735426 [ 12.83058742 263.75514132]\n",
      "(0, 2)\n"
     ]
    },
    {
     "data": {
      "image/png": "[encoded data removed]",
      "text/plain": [
       "<Figure size 432x288 with 1 Axes>"
      ]
     },
     "metadata": {
      "needs_background": "light"
     },
     "output_type": "display_data"
    }
   ],
   "source": [
    "if __name__ == \"__main__\":\n",
    "    x = np.random.uniform(0, 10, 100)\n",
    "    y = 4.5*x+8.1+np.random.normal(0, 4, x.shape[0])\n",
    "    dataset = np.concatenate((x, y), axis=0)\n",
    "    dataset = np.reshape(dataset, (100, 2), order=\"F\")\n",
    "    C = 1.0\n",
    "    b, betas = support_vector_regression_1d(dataset, C)\n",
    "    w = np.matmul(betas, dataset[:, :2])\n",
    "    print(b, w)\n",
    "    fig = plt.figure()\n",
    "    ax = fig.add_subplot(111)\n",
    "    ax.scatter(dataset[:, 0], dataset[:, 1], c=\"r\", marker=\"x\")\n",
    "    sv = dataset[np.nonzero(np.fabs(betas)<C)]\n",
    "    print(sv.shape)\n",
    "    plt.show()"
   ]
  }
 ],
 "metadata": {
  "kernelspec": {
   "display_name": "Python 3",
   "language": "python",
   "name": "python3"
  },
  "language_info": {
   "codemirror_mode": {
    "name": "ipython",
    "version": 3
   },
   "file_extension": ".py",
   "mimetype": "text/x-python",
   "name": "python",
   "nbconvert_exporter": "python",
   "pygments_lexer": "ipython3",
   "version": "3.7.3"
  }
 },
 "nbformat": 4,
 "nbformat_minor": 4
}
