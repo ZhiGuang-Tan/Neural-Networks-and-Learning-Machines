{
 "cells": [
  {
   "cell_type": "code",
   "execution_count": 1,
   "metadata": {},
   "outputs": [],
   "source": [
    "import sys\n",
    "sys.path.append(\"../util/\")\n",
    "\n",
    "import numpy as np\n",
    "import matplotlib.pyplot as plt"
   ]
  },
  {
   "cell_type": "code",
   "execution_count": 2,
   "metadata": {},
   "outputs": [],
   "source": [
    "def phi(x1, x2):\n",
    "    return np.exp(-np.linalg.norm(np.subtract(x1, x2)))\n",
    "\n",
    "def radial_basis_function_interpolation(dataset, phi):\n",
    "    weights = np.linalg.solve(np.array([[phi(xi, xj) for xj in dataset[:, :2]] for xi in dataset[:, :2]]), dataset[:, 2])\n",
    "    return weights"
   ]
  },
  {
   "cell_type": "code",
   "execution_count": 3,
   "metadata": {},
   "outputs": [
    {
     "data": {
      "image/png": "[encoded data removed]",
      "text/plain": [
       "<Figure size 432x288 with 1 Axes>"
      ]
     },
     "metadata": {
      "needs_background": "light"
     },
     "output_type": "display_data"
    }
   ],
   "source": [
    "if __name__ == \"__main__\":\n",
    "    from ipynb.fs.full.data_generator_2d import double_moon, visualize_data\n",
    "    dataset = double_moon(500, d=-5)\n",
    "    np.random.shuffle(dataset)\n",
    "    w = radial_basis_function_interpolation(dataset, phi)\n",
    "    fig = plt.figure()\n",
    "    ax = fig.subplots(1, 1)\n",
    "    for example in dataset[:, :2]:\n",
    "        y = np.dot(np.array([phi(example, xj) for xj in dataset[:, :2]]), w)\n",
    "        ax.scatter(example[0], example[1], color=plt.cm.RdBu(np.sign(y)), marker=\"+\")\n",
    "    #visualize_data(dataset, ax)\n",
    "    #t = np.linspace(-13, 23, 50)\n",
    "    #for i in t:\n",
    "    #    for j in t:\n",
    "    #        tmp = np.array([i, j])\n",
    "    #        y = np.dot(np.array([phi(tmp, xj) for xj in dataset[:, :2]]), w)\n",
    "    #        ax.scatter(i, j, color=plt.cm.RdBu(np.sign(y)), marker=\"+\")\n",
    "    plt.show()"
   ]
  }
 ],
 "metadata": {
  "kernelspec": {
   "display_name": "Python 3",
   "language": "python",
   "name": "python3"
  },
  "language_info": {
   "codemirror_mode": {
    "name": "ipython",
    "version": 3
   },
   "file_extension": ".py",
   "mimetype": "text/x-python",
   "name": "python",
   "nbconvert_exporter": "python",
   "pygments_lexer": "ipython3",
   "version": "3.7.3"
  }
 },
 "nbformat": 4,
 "nbformat_minor": 4
}
