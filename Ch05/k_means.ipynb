{
 "cells": [
  {
   "cell_type": "code",
   "execution_count": 1,
   "metadata": {},
   "outputs": [],
   "source": [
    "import sys\n",
    "sys.path.append(\"../util/\")\n",
    "\n",
    "import numpy as np\n",
    "import matplotlib.pyplot as plt"
   ]
  },
  {
   "cell_type": "code",
   "execution_count": 2,
   "metadata": {},
   "outputs": [],
   "source": [
    "def k_means(dataset, k):\n",
    "    #minX = np.amin(dataset, axis=0)\n",
    "    #maxX = np.amax(dataset, axis=0)\n",
    "    #centroids = np.array([minX + np.multiply(np.subtract(maxX, minX), np.random.rand(dataset.shape[1])) for i in range(k)])\n",
    "    centroids= dataset[np.random.choice(dataset.shape[0], k)]\n",
    "    isChanged = True\n",
    "    clusterInfo = -np.ones((dataset.shape[0], 2))\n",
    "    while isChanged:\n",
    "        isChanged = False\n",
    "        for i in range(dataset.shape[0]):\n",
    "            minDist = np.inf\n",
    "            index = -1\n",
    "            for j in range(k):\n",
    "                distance = np.linalg.norm(np.subtract(dataset[i], centroids[j]))\n",
    "                if (distance<minDist):\n",
    "                    minDist = distance\n",
    "                    index = j\n",
    "            if (clusterInfo[i, 0]!=index):\n",
    "                clusterInfo[i, 0] = index\n",
    "                isChanged = True\n",
    "        for i in range(k):\n",
    "            centroids[i] = np.mean(dataset[np.nonzero(clusterInfo[:,0]==i)], axis=0)\n",
    "    for i in range(k):\n",
    "        clusterInfo[np.nonzero(clusterInfo[:,0]==i), 1] = np.linalg.norm(np.subtract(dataset[np.nonzero(clusterInfo[:,0]==i)], centroids[i]), axis=1)\n",
    "    return centroids, clusterInfo"
   ]
  },
  {
   "cell_type": "code",
   "execution_count": 3,
   "metadata": {},
   "outputs": [],
   "source": [
    "def bisecting_k_means(dataset, k):\n",
    "    centroids = np.empty((k, dataset.shape[1]))\n",
    "    clusterInfo = np.zeros((dataset.shape[0], 2))\n",
    "    centroids[0] = np.mean(dataset, axis=0)\n",
    "    clusterInfo[:, 1] = np.linalg.norm(np.subtract(dataset, centroids[0]), axis=1)\n",
    "    for currClusterNum in range(1, k):\n",
    "        lowestSSE = np.sum(clusterInfo[:,1])\n",
    "        for i in range(currClusterNum):\n",
    "            c, info = k_means(dataset[np.nonzero(clusterInfo[:, 0]==i)], 2)\n",
    "            sseSplit = np.sum(info[:,1])\n",
    "            sseNotSplit = np.sum(clusterInfo[np.nonzero(clusterInfo[:, 0]!=i),1])\n",
    "            #print(sseSplit, info, lowestSSE, clusterInfo)\n",
    "            if ((sseSplit+sseNotSplit)<lowestSSE):\n",
    "                lowestSSE = sseSplit+sseNotSplit\n",
    "                bestCentToSplit = i\n",
    "                bestNewCents = c\n",
    "                bestClustAss = info.copy()\n",
    "        centroids[bestCentToSplit] = bestNewCents[0,:]\n",
    "        centroids[currClusterNum] = bestNewCents[1,:]\n",
    "        bestClustAss[np.nonzero(bestClustAss[:,0]==1),0] = currClusterNum\n",
    "        bestClustAss[np.nonzero(bestClustAss[:,0]==0),0] = bestCentToSplit\n",
    "        clusterInfo[np.nonzero(clusterInfo[:,0] == bestCentToSplit)]= bestClustAss\n",
    "    return centroids, clusterInfo"
   ]
  },
  {
   "cell_type": "code",
   "execution_count": 4,
   "metadata": {},
   "outputs": [
    {
     "data": {
      "image/png": "[encoded data removed]",
      "text/plain": [
       "<Figure size 432x288 with 1 Axes>"
      ]
     },
     "metadata": {
      "needs_background": "light"
     },
     "output_type": "display_data"
    }
   ],
   "source": [
    "if __name__ == \"__main__\":\n",
    "    from ipynb.fs.full.data_generator_2d import double_moon\n",
    "    dataset = double_moon(500, d=-5)\n",
    "    np.random.shuffle(dataset)\n",
    "    k=9\n",
    "    c, info = bisecting_k_means(dataset[:,:2], k)\n",
    "    fig = plt.figure()\n",
    "    ax = fig.subplots(1, 1)\n",
    "    ax.scatter(dataset[:,0], dataset[:,1], color=plt.cm.RdBu(info[:,0]/k), marker=\"+\")\n",
    "    ax.scatter(c[:,0],c[:,1], color=\"r\", marker=\"+\")\n",
    "    plt.show()"
   ]
  }
 ],
 "metadata": {
  "kernelspec": {
   "display_name": "Python 3",
   "language": "python",
   "name": "python3"
  },
  "language_info": {
   "codemirror_mode": {
    "name": "ipython",
    "version": 3
   },
   "file_extension": ".py",
   "mimetype": "text/x-python",
   "name": "python",
   "nbconvert_exporter": "python",
   "pygments_lexer": "ipython3",
   "version": "3.7.3"
  }
 },
 "nbformat": 4,
 "nbformat_minor": 4
}
