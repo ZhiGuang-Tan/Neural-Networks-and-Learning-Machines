{
 "cells": [
  {
   "cell_type": "code",
   "execution_count": null,
   "metadata": {},
   "outputs": [],
   "source": [
    "import sys\n",
    "sys.path.append(\"../util/\")\n",
    "\n",
    "import numpy as np\n",
    "import matplotlib.pyplot as plt"
   ]
  },
  {
   "cell_type": "markdown",
   "metadata": {},
   "source": [
    "$\\mathop{\\arg\\min}_{w}\\frac{1}{2}\\sum\\limits_{i=1}^N(d_i-w^Tx_i)^2+\\frac{\\lambda}{2}\\left\\|w\\right\\|^2$\n",
    "\n",
    "**maximum-likelihood estimation** versus **maximum a posteriori estimation**\n",
    "\n",
    "The least-squares algorithm discovers the asymmetric"
   ]
  },
  {
   "cell_type": "code",
   "execution_count": null,
   "metadata": {},
   "outputs": [],
   "source": [
    "def least_squares(dataset, lambda_ = 0.0):\n",
    "    weights = np.zeros(dataset.shape[1]-1)\n",
    "    bias = 0.0\n",
    "    tmp = np.sum(dataset[:, 2])\n",
    "    tmp1 = np.sum(dataset[:, :2], axis=0)\n",
    "    A = np.dot(dataset[:, :2].T, dataset[:, :2]) \\\n",
    "        - np.outer(tmp1, tmp1.T)/dataset.shape[0] \\\n",
    "        + lambda_*np.eye(dataset.shape[1]-1)\n",
    "    b = np.dot(dataset[:, :2].T, dataset[:, 2]) \\\n",
    "        - np.dot(tmp, tmp1)/dataset.shape[0]\n",
    "    weights = np.linalg.solve(A, b)\n",
    "    bias = (tmp \\\n",
    "        - np.sum(np.dot(dataset[:, :2], weights))) \\\n",
    "        / dataset.shape[0]\n",
    "    return weights, bias"
   ]
  },
  {
   "cell_type": "code",
   "execution_count": null,
   "metadata": {},
   "outputs": [],
   "source": [
    "if (__name__ == \"__main__\"):\n",
    "    from ipynb.fs.full.data_generator_2d import double_moon, gaussian_2d, visualize_data\n",
    "    from ipynb.fs.full.test_bench import test\n",
    "    test(least_squares)"
   ]
  }
 ],
 "metadata": {
  "kernelspec": {
   "display_name": "Python 3",
   "language": "python",
   "name": "python3"
  },
  "language_info": {
   "codemirror_mode": {
    "name": "ipython",
    "version": 3
   },
   "file_extension": ".py",
   "mimetype": "text/x-python",
   "name": "python",
   "nbconvert_exporter": "python",
   "pygments_lexer": "ipython3",
   "version": "3.7.3"
  }
 },
 "nbformat": 4,
 "nbformat_minor": 4
}
