{
 "cells": [
  {
   "cell_type": "code",
   "execution_count": 1,
   "metadata": {},
   "outputs": [],
   "source": [
    "import sys\n",
    "sys.path.append(\"../util/\")\n",
    "\n",
    "import numpy as np\n",
    "import matplotlib.pyplot as plt"
   ]
  },
  {
   "cell_type": "code",
   "execution_count": 2,
   "metadata": {},
   "outputs": [],
   "source": [
    "def phi(v):\n",
    "    tmp = np.exp(-2*v)\n",
    "    return (1-tmp)/(1+tmp)\n",
    "\n",
    "def phi_der(v):\n",
    "    tmp = np.exp(-2*v)\n",
    "    return (4*tmp/(1+tmp)**2)"
   ]
  },
  {
   "cell_type": "code",
   "execution_count": 3,
   "metadata": {},
   "outputs": [],
   "source": [
    "class BackPropagation:\n",
    "    \n",
    "    def __init__(self, shape):\n",
    "        self.mean = float(0.0)\n",
    "        self.rotation = np.identity(shape[0], dtype=\"float\")\n",
    "        self.amplitude = np.ones(shape[0])\n",
    "        self.weights = [np.divide(np.random.randn(shape[i-1], shape[i]), np.sqrt(shape[i])) for i in range(1, len(shape), 1)]\n",
    "        self.bias = [np.divide(np.random.randn(shape[i]), np.sqrt(shape[i])) for i in range(1, len(shape), 1)]\n",
    "        return\n",
    "    \n",
    "    def fit(self, dataset, eta=0.1, alpha=0.0001, epochs=5):\n",
    "        # Initialize parameters\n",
    "        delta = [np.zeros_like(b) for b in self.bias]\n",
    "        delta_weights = [np.zeros_like(w) for w in self.weights]\n",
    "        delta_bias = [np.zeros_like(b) for b in self.bias]\n",
    "        v = [np.zeros_like(b) for b in self.bias]\n",
    "        y = [np.zeros_like(dataset[0, :2])]\n",
    "        y.extend([np.zeros_like(b) for b in self.bias])\n",
    "        # Mean removal\n",
    "        self.mean = np.mean(dataset[:, :2], axis=0)\n",
    "        dataset[:, :2] -= self.mean\n",
    "        # Decorrelation\n",
    "        self.rotation, self.amplitude, _ = np.linalg.svd(np.cov(dataset[:, :2].T))\n",
    "        dataset[:, :2] = np.matmul(dataset[:, :2], self.rotation)\n",
    "        # Covariance equalization\n",
    "        dataset[:, :2] = np.divide(dataset[:, :2], np.sqrt(self.amplitude))\n",
    "        # Training start here\n",
    "        n=0\n",
    "        for count in range(epochs):\n",
    "            for example in dataset:\n",
    "                # Forward calculation\n",
    "                y[0] = example[:2]\n",
    "                for (i, w, b) in zip(range(0, len(v), 1), self.weights, self.bias):\n",
    "                    v[i] = np.add(np.matmul(w.T, y[i]), b)\n",
    "                    y[i+1] = phi(v[i])\n",
    "                # Backward calculation\n",
    "                delta[-1] = np.multiply(phi_der(v[-1]), (example[2]-y[-1]))\n",
    "                for i in reversed(range(1, len(v), 1)):\n",
    "                    delta_weights[i] = alpha*delta_weights[i] + np.multiply(eta, np.outer(y[i], delta[i]))\n",
    "                    self.weights[i] += delta_weights[i]\n",
    "                    delta_bias[i] = alpha*delta_bias[i] + eta*delta[i]\n",
    "                    self.bias[i] += delta_bias[i]\n",
    "                    delta[i-1] = np.multiply(phi_der(v[i-1]), np.matmul(self.weights[i], delta[i]))\n",
    "                delta_weights[0] = alpha*delta_weights[0] + np.multiply(eta, np.outer(example[:2], delta[0]))\n",
    "                self.weights[0] += delta_weights[0]\n",
    "                delta_bias[0] = alpha*delta_bias[0] + eta*delta[0]\n",
    "                self.bias[0] += delta_bias[0]\n",
    "                #print(\"####################\")\n",
    "            n+=1\n",
    "            eta = 0.1*10/(n+10)\n",
    "            print(\"########## End epoch #%d ##########\" % count)\n",
    "        return\n",
    "    \n",
    "    def predict(self, example):\n",
    "        v = [np.zeros_like(b) for b in self.bias]\n",
    "        y = [example]\n",
    "        y.extend([np.zeros_like(b) for b in self.bias])\n",
    "        y[0] -= self.mean\n",
    "        y[0] = np.matmul(self.rotation.T, y[0])\n",
    "        y[0] /= np.sqrt(self.amplitude)\n",
    "        for (i, w, b) in zip(range(0, len(v), 1), self.weights, self.bias):\n",
    "            v[i] = np.add(np.matmul(w.T, y[i]), b)\n",
    "            y[i+1] = phi(v[i])\n",
    "        return y[-1]"
   ]
  },
  {
   "cell_type": "code",
   "execution_count": 4,
   "metadata": {},
   "outputs": [
    {
     "name": "stdout",
     "output_type": "stream",
     "text": [
      "########## End epoch #0 ##########\n",
      "########## End epoch #1 ##########\n",
      "########## End epoch #2 ##########\n",
      "########## End epoch #3 ##########\n",
      "########## End epoch #4 ##########\n",
      "########## End ##########\n",
      "[array([[-2.67674412,  1.56813152,  2.84252134,  1.74708415],\n",
      "       [-0.19170012, -2.36786965,  0.33500291, -1.17028347]]), array([[ 6.86333697e-01, -1.58352115e+00, -2.09637228e+00,\n",
      "         3.99919007e-02],\n",
      "       [ 3.17544663e-01,  8.88208454e-02, -1.23226177e+00,\n",
      "         1.73968310e+00],\n",
      "       [-2.66445435e+00, -2.17366989e-03,  7.02292870e-01,\n",
      "         2.99161127e-01],\n",
      "       [ 3.88679356e-01,  2.74419048e-01,  2.66999306e-01,\n",
      "         1.50644602e+00]]), array([[-2.22512107],\n",
      "       [ 0.95058183],\n",
      "       [ 1.80432322],\n",
      "       [-2.17103847]])] [array([ 2.14808656,  0.25293164,  2.15141071, -0.05357559]), array([-1.11286975, -0.80435894, -0.46444544, -0.40125148]), array([0.27816151])]\n"
     ]
    },
    {
     "data": {
      "image/png": "[encoded data removed]",
      "text/plain": [
       "<Figure size 432x288 with 1 Axes>"
      ]
     },
     "metadata": {
      "needs_background": "light"
     },
     "output_type": "display_data"
    }
   ],
   "source": [
    "if __name__ == \"__main__\":\n",
    "    from ipynb.fs.full.data_generator_2d import double_moon, visualize_data\n",
    "    dataset = double_moon(1000, d=-5)\n",
    "    a = BackPropagation([2, 4, 4, 1])\n",
    "    a.fit(np.copy(dataset))\n",
    "    print(\"########## End ##########\")\n",
    "    print(a.weights, a.bias)\n",
    "    fig = plt.figure()\n",
    "    ax = fig.subplots(1, 1)\n",
    "    for example in dataset[:, :2]:\n",
    "        y = a.predict(np.array(example))\n",
    "        ax.scatter(example[0], example[1], c=plt.cm.RdBu(np.sign(y)), marker=\"+\")\n",
    "    #visualize_data(dataset, ax)\n",
    "    #t = np.linspace(-13, 23, 10)\n",
    "    #for i in t:\n",
    "        #for j in t:\n",
    "            #y = a.predict(np.array([i, j]))\n",
    "            #ax.scatter(i, j, c=plt.cm.RdBu(np.sign(y)), marker=\"+\")\n",
    "    plt.show()"
   ]
  }
 ],
 "metadata": {
  "kernelspec": {
   "display_name": "Python 3",
   "language": "python",
   "name": "python3"
  },
  "language_info": {
   "codemirror_mode": {
    "name": "ipython",
    "version": 3
   },
   "file_extension": ".py",
   "mimetype": "text/x-python",
   "name": "python",
   "nbconvert_exporter": "python",
   "pygments_lexer": "ipython3",
   "version": "3.7.3"
  }
 },
 "nbformat": 4,
 "nbformat_minor": 4
}
