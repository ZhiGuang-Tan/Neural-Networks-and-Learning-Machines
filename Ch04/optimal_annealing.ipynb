{
 "cells": [
  {
   "cell_type": "code",
   "execution_count": null,
   "metadata": {},
   "outputs": [],
   "source": [
    "class LearningRate:\n",
    "    \n",
    "    def __init__(self, eta0, n_switch):\n",
    "        self.eta0 = eta0\n",
    "        self.n_switch = n_switch\n",
    "        return\n",
    "    \n",
    "    def optimal_annealing(self, n):\n",
    "        return (self.eta0*n_switch/(n+n_switch))\n",
    "    \n",
    "    def adaptive_control(self, )"
   ]
  }
 ],
 "metadata": {
  "kernelspec": {
   "display_name": "Python 3",
   "language": "python",
   "name": "python3"
  },
  "language_info": {
   "codemirror_mode": {
    "name": "ipython",
    "version": 3
   },
   "file_extension": ".py",
   "mimetype": "text/x-python",
   "name": "python",
   "nbconvert_exporter": "python",
   "pygments_lexer": "ipython3",
   "version": "3.7.3"
  }
 },
 "nbformat": 4,
 "nbformat_minor": 4
}
